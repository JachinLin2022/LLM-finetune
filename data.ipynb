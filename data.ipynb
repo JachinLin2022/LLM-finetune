{
 "cells": [
  {
   "cell_type": "code",
   "execution_count": null,
   "metadata": {},
   "outputs": [],
   "source": [
    "import json\n",
    "from utils.prompter import Prompter\n",
    "import re\n",
    "import unicodedata\n",
    "\n",
    "prompter = Prompter('')\n",
    "instructions = []\n",
    "\n",
    "def remove_unicode_characters(text):\n",
    "    # 将文本中的Unicode字符进行规范化\n",
    "    normalized_text = unicodedata.normalize(\"NFKD\", text)\n",
    "    # 删除规范化后的文本中的非ASCII字符\n",
    "    cleaned_text = normalized_text.encode(\"ascii\", \"ignore\").decode(\"ascii\")\n",
    "    return cleaned_text\n",
    "\n",
    "def remove_links(text):\n",
    "    # 匹配链接的正则表达式\n",
    "    pattern = r'http\\S+|www\\S+'\n",
    "    # 使用空字符串替换链接\n",
    "    text_without_links = re.sub(pattern, '', text)\n",
    "    return text_without_links\n",
    "\n",
    "output = open('train_data_3_class_clean.jsonl', 'w')\n",
    "with open('train_data_3_class.jsonl', 'r') as f:\n",
    "    for line in f:\n",
    "        data = json.loads(line)\n",
    "        data_point = {}\n",
    "        \n",
    "        \n",
    "        data['text'] = remove_links(data['text'])\n",
    "        # print(data['text'])\n",
    "        data['text'] = remove_unicode_characters(data['text'])\n",
    "        # print(data['text'])\n",
    "        # print('======================')\n",
    "        output.write(json.dumps(data) + '\\n')\n",
    "        data_point[\"instruction\"] = 'What is the sentiment toward Bitcoin in the input sentence? [positive, negative, neutral]'\n",
    "        data_point[\"input\"] = data['text']\n",
    "        data_point[\"output\"] = data['label']\n",
    "        full_prompt = prompter.generate_prompt(\n",
    "            data_point[\"instruction\"],\n",
    "            data_point[\"input\"]\n",
    "        )\n",
    "        \n",
    "        instructions.append({'context':full_prompt, 'target':data['label']})\n",
    "        # break"
   ]
  },
  {
   "cell_type": "code",
   "execution_count": 7,
   "metadata": {},
   "outputs": [
    {
     "name": "stdout",
     "output_type": "stream",
     "text": [
      "666512\n",
      "511084\n",
      "511084\n"
     ]
    }
   ],
   "source": [
    "import pandas as pd\n",
    "\n",
    "data = pd.read_csv('tweets_raw_2020_2023.csv')\n",
    "print(len(data))\n",
    "data = data[(data['day'].str.find('2020')>=0) | (data['day'].str.find('2022')>=0) | (data['day'].str.find('2023')>=0)]\n",
    "print(len(data))\n",
    "data.to_csv('tweets_raw_other.csv',index=False)\n",
    "print(len(data))\n"
   ]
  },
  {
   "cell_type": "code",
   "execution_count": null,
   "metadata": {},
   "outputs": [],
   "source": []
  }
 ],
 "metadata": {
  "kernelspec": {
   "display_name": "Python 3 (ipykernel)",
   "language": "python",
   "name": "python3"
  },
  "language_info": {
   "codemirror_mode": {
    "name": "ipython",
    "version": 3
   },
   "file_extension": ".py",
   "mimetype": "text/x-python",
   "name": "python",
   "nbconvert_exporter": "python",
   "pygments_lexer": "ipython3",
   "version": "3.10.10"
  }
 },
 "nbformat": 4,
 "nbformat_minor": 4
}
