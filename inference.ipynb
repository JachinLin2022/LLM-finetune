{
 "cells": [
  {
   "cell_type": "code",
   "execution_count": 1,
   "id": "a3280377-f571-44f7-ad6b-e2d5b5a5a888",
   "metadata": {
    "tags": []
   },
   "outputs": [
    {
     "name": "stdout",
     "output_type": "stream",
     "text": [
      "Below is an instruction that describes a task, paired with an input that provides further context. Write a response that appropriately completes the request.\n",
      "\n",
      "### Instruction:\n",
      "What is the sentiment toward Bitcoin in the input sentence? [positive, negative, neutral]\n",
      "\n",
      "### Input:\n",
      "What was your best trade of 2020?\n",
      "\n",
      "### Response:\n",
      "\n"
     ]
    }
   ],
   "source": [
    "import pandas as pd\n",
    "from utils.prompter import Prompter\n",
    "prompt_template_name = \"alpaca\"\n",
    "\n",
    "data = pd.read_csv('tweets_raw_2021.csv')\n",
    "data = data[['full_text', 'day']]\n",
    "\n",
    "prompter = Prompter(prompt_template_name)\n",
    "instructions = []\n",
    "for idx,row in data.iterrows():\n",
    "    full_text = row['full_text']\n",
    "    ins = 'What is the sentiment toward Bitcoin in the input sentence? [positive, negative, neutral]'\n",
    "    full_prompt = prompter.generate_prompt(\n",
    "            ins,\n",
    "            full_text,\n",
    "        )\n",
    "    instructions.append(full_prompt)\n",
    "print(instructions[0])\n",
    "\n",
    "\n"
   ]
  },
  {
   "cell_type": "code",
   "execution_count": 2,
   "id": "99bb4fca-2b1f-4490-8245-2fa626d20410",
   "metadata": {
    "tags": []
   },
   "outputs": [
    {
     "name": "stdout",
     "output_type": "stream",
     "text": [
      "\n",
      "===================================BUG REPORT===================================\n",
      "Welcome to bitsandbytes. For bug reports, please run\n",
      "\n",
      "python -m bitsandbytes\n",
      "\n",
      " and submit this information together with your error trace to: https://github.com/TimDettmers/bitsandbytes/issues\n",
      "================================================================================\n",
      "bin /root/miniconda3/lib/python3.8/site-packages/bitsandbytes/libbitsandbytes_cuda118.so\n",
      "CUDA_SETUP: WARNING! libcudart.so not found in any environmental path. Searching in backup paths...\n",
      "CUDA SETUP: CUDA runtime path found: /usr/local/cuda/lib64/libcudart.so\n",
      "CUDA SETUP: Highest compute capability among GPUs detected: 8.6\n",
      "CUDA SETUP: Detected CUDA version 118\n",
      "CUDA SETUP: Loading binary /root/miniconda3/lib/python3.8/site-packages/bitsandbytes/libbitsandbytes_cuda118.so...\n"
     ]
    },
    {
     "name": "stderr",
     "output_type": "stream",
     "text": [
      "/root/miniconda3/lib/python3.8/site-packages/bitsandbytes/cuda_setup/main.py:149: UserWarning: WARNING: The following directories listed in your path were found to be non-existent: {PosixPath('/usr/local/nvidia/lib64'), PosixPath('/usr/local/nvidia/lib')}\n",
      "  warn(msg)\n",
      "/root/miniconda3/lib/python3.8/site-packages/bitsandbytes/cuda_setup/main.py:149: UserWarning: /usr/local/nvidia/lib:/usr/local/nvidia/lib64 did not contain ['libcudart.so', 'libcudart.so.11.0', 'libcudart.so.12.0'] as expected! Searching further paths...\n",
      "  warn(msg)\n",
      "/root/miniconda3/lib/python3.8/site-packages/bitsandbytes/cuda_setup/main.py:149: UserWarning: WARNING: The following directories listed in your path were found to be non-existent: {PosixPath('Asia/Shanghai')}\n",
      "  warn(msg)\n",
      "/root/miniconda3/lib/python3.8/site-packages/bitsandbytes/cuda_setup/main.py:149: UserWarning: WARNING: The following directories listed in your path were found to be non-existent: {PosixPath('/root/LLM-finetune/Untitled.ipynb')}\n",
      "  warn(msg)\n",
      "/root/miniconda3/lib/python3.8/site-packages/bitsandbytes/cuda_setup/main.py:149: UserWarning: WARNING: The following directories listed in your path were found to be non-existent: {PosixPath('module'), PosixPath('//matplotlib_inline.backend_inline')}\n",
      "  warn(msg)\n",
      "/root/miniconda3/lib/python3.8/site-packages/bitsandbytes/cuda_setup/main.py:149: UserWarning: Found duplicate ['libcudart.so', 'libcudart.so.11.0', 'libcudart.so.12.0'] files: {PosixPath('/usr/local/cuda/lib64/libcudart.so'), PosixPath('/usr/local/cuda/lib64/libcudart.so.11.0')}.. We'll flip a coin and try one of these, in order to fail forward.\n",
      "Either way, this might cause trouble in the future:\n",
      "If you get `CUDA error: invalid device function` errors, the above might be the cause and the solution is to make sure only one ['libcudart.so', 'libcudart.so.11.0', 'libcudart.so.12.0'] in the paths that we search based on your env.\n",
      "  warn(msg)\n"
     ]
    }
   ],
   "source": [
    "import os\n",
    "import sys\n",
    "from typing import List\n",
    "\n",
    "\n",
    "import torch\n",
    "import transformers\n",
    "from datasets import load_dataset\n",
    "\n",
    "\"\"\"\n",
    "Unused imports:\n",
    "import torch.nn as nn\n",
    "import bitsandbytes as bnb\n",
    "\"\"\"\n",
    "\n",
    "from peft import (\n",
    "    LoraConfig,\n",
    "    get_peft_model,\n",
    "    get_peft_model_state_dict,\n",
    "    prepare_model_for_int8_training,\n",
    "    set_peft_model_state_dict,\n",
    ")\n",
    "from peft import PeftModel\n",
    "from transformers import LlamaForCausalLM, LlamaTokenizer\n",
    "\n",
    "from utils.prompter import Prompter\n",
    "# lora hyperparams\n",
    "lora_r = 8\n",
    "lora_alpha = 16\n",
    "lora_dropout = 0.05\n",
    "lora_target_modules = [\n",
    "    \"q_proj\",\n",
    "    \"v_proj\",\n",
    "]\n",
    "\n",
    "prompt_template_name = \"alpaca\"  # The prompt template to use, will default to alpaca.\n",
    "device_map = \"auto\"\n",
    "\n",
    "base_model = \"/root/llama-7b-hf\"  # the only required argument\n",
    "output_dir = \"/root/autodl-tmp/output\"\n",
    "lora_weights = \"/root/autodl-tmp/checkpoint-5800\"\n",
    "# resume_from_checkpoint = \"/root/autodl-tmp/output/checkpoint-3700\"\n",
    "resume_from_checkpoint=None"
   ]
  },
  {
   "cell_type": "code",
   "execution_count": 3,
   "id": "0595f4de-fd97-4c86-bdc3-88a0c412cafe",
   "metadata": {
    "tags": []
   },
   "outputs": [],
   "source": [
    "tokenizer = LlamaTokenizer.from_pretrained(base_model)\n",
    "\n",
    "tokenizer.pad_token_id = (\n",
    "    0  # unk. we want this to be different from the eos token\n",
    " )\n",
    "tokenizer.padding_side = \"left\"  # Allow batched inference"
   ]
  },
  {
   "cell_type": "code",
   "execution_count": 4,
   "id": "8afe47a1-854a-4218-84ff-4b9f2871a10a",
   "metadata": {
    "tags": []
   },
   "outputs": [
    {
     "name": "stderr",
     "output_type": "stream",
     "text": [
      "The model weights are not tied. Please use the `tie_weights` method before using the `infer_auto_device` function.\n"
     ]
    },
    {
     "data": {
      "application/vnd.jupyter.widget-view+json": {
       "model_id": "b03e851121a141acb85e3534dc8cb197",
       "version_major": 2,
       "version_minor": 0
      },
      "text/plain": [
       "Loading checkpoint shards:   0%|          | 0/33 [00:00<?, ?it/s]"
      ]
     },
     "metadata": {},
     "output_type": "display_data"
    }
   ],
   "source": [
    "model = LlamaForCausalLM.from_pretrained(\n",
    "        base_model,\n",
    "        load_in_8bit=False,\n",
    "        torch_dtype=torch.float16,\n",
    "        device_map=device_map,\n",
    "    )\n",
    "model = PeftModel.from_pretrained(\n",
    "    model,\n",
    "    lora_weights,\n",
    "    torch_dtype=torch.float16,\n",
    ")\n"
   ]
  },
  {
   "cell_type": "code",
   "execution_count": 5,
   "id": "992d8a0d-dd36-4966-89b7-6fb5f47e7fde",
   "metadata": {
    "tags": []
   },
   "outputs": [
    {
     "name": "stderr",
     "output_type": "stream",
     "text": [
      "  0%|          | 0/9685 [00:00<?, ?it/s]/root/miniconda3/lib/python3.8/site-packages/transformers/generation/utils.py:1255: UserWarning: You have modified the pretrained model configuration to control generation. This is a deprecated strategy to control generation and will be removed soon, in a future version. Please use a generation configuration file (see https://huggingface.co/docs/transformers/main_classes/text_generation)\n",
      "  warnings.warn(\n",
      "100%|██████████| 9685/9685 [3:35:23<00:00,  1.33s/it]  "
     ]
    },
    {
     "name": "stdout",
     "output_type": "stream",
     "text": [
      "Finished in 12923.70 seconds.\n"
     ]
    },
    {
     "name": "stderr",
     "output_type": "stream",
     "text": [
      "\n"
     ]
    }
   ],
   "source": [
    "import json\n",
    "from torch.utils.data import DataLoader\n",
    "import time\n",
    "import torch.nn.functional as F\n",
    "from tqdm import tqdm\n",
    "\n",
    "data['pred'] = ''\n",
    "data['scores'] = ''\n",
    "data['prob'] = ''\n",
    "start_time = time.time()\n",
    "model.eval()\n",
    "with torch.no_grad():\n",
    "    batch_size = 16\n",
    "    input_texts = []\n",
    "    targets = []\n",
    "    # for idx, item in enumerate(instructions[300:]):\n",
    "    #     # feature = format_example(item)\n",
    "    #     # input_text = feature[\"context\"]\n",
    "    #     all = all + 1\n",
    "    #     input_texts.append(item[\"context\"])\n",
    "    #     targets.append(item[\"target\"])\n",
    "    test_loader = DataLoader(instructions, batch_size=batch_size)\n",
    "    for batch_idx,batch in enumerate(tqdm(test_loader)):\n",
    "        input_ids = tokenizer(batch, padding=True,return_tensors='pt').to('cuda')\n",
    "        # out = model.generate(**input_ids, max_length=250, temperature=0)\n",
    "        out = model.generate(\n",
    "            **input_ids,\n",
    "            temperature=0,\n",
    "            return_dict_in_generate= True,\n",
    "            output_scores=True,\n",
    "            max_new_tokens = 1\n",
    "        )\n",
    "        seqs = out['sequences']\n",
    "        scores = out['scores'][0]\n",
    "        softmax = F.softmax(scores, dim=1)\n",
    "        \n",
    "        pos = scores[:,1066]\n",
    "        neg = scores[:,22198]\n",
    "        neu = scores[:,17821]\n",
    "        \n",
    "        pos_prob = softmax[:,1066]\n",
    "        neg_prob = softmax[:,22198]\n",
    "        neu_prob = softmax[:,17821]\n",
    "\n",
    "        max_val, max_index = torch.max(softmax, dim=1)\n",
    "        \n",
    "        # print(max_val, max_index)\n",
    "#         print(tokenizer.decode(max_index))\n",
    "        \n",
    "        \n",
    "        results = tokenizer.batch_decode(seqs)\n",
    "        # print(results, '\\n\\n')\n",
    "        # break\n",
    "        for idx,res in enumerate(results):\n",
    "            # print(res,'\\n\\n')\n",
    "            pred = res[res.find('Response') + 10:]\n",
    "            score_str = f'pos={pos[idx].item()}\\nneg={neg[idx].item()}\\nneu={neu[idx].item()}\\n'\n",
    "            prob_str = f'pos={pos_prob[idx].item()}\\nneg={neg_prob[idx].item()}\\nneu={neu_prob[idx].item()}\\n'\n",
    "            # print(batch_idx*batch_size + idx,prob_str,pred)\n",
    "            data.at[batch_idx*batch_size + idx, 'pred'] = pred\n",
    "            data.at[batch_idx*batch_size + idx, 'scores'] = score_str\n",
    "            data.at[batch_idx*batch_size + idx, 'prob'] = prob_str\n",
    "        data.to_csv('infer_result.csv',index=False)\n",
    "        # break\n",
    "end_time = time.time()\n",
    "elapsed_time = end_time - start_time\n",
    "print(\"Finished in {:.2f} seconds.\".format(elapsed_time))"
   ]
  },
  {
   "cell_type": "code",
   "execution_count": null,
   "id": "aebdb0f8-03c0-492d-aa9a-26024c39f1a3",
   "metadata": {},
   "outputs": [],
   "source": []
  }
 ],
 "metadata": {
  "kernelspec": {
   "display_name": "Python 3 (ipykernel)",
   "language": "python",
   "name": "python3"
  },
  "language_info": {
   "codemirror_mode": {
    "name": "ipython",
    "version": 3
   },
   "file_extension": ".py",
   "mimetype": "text/x-python",
   "name": "python",
   "nbconvert_exporter": "python",
   "pygments_lexer": "ipython3",
   "version": "3.10.10"
  }
 },
 "nbformat": 4,
 "nbformat_minor": 5
}
